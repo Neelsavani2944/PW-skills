{
 "cells": [
  {
   "cell_type": "markdown",
   "id": "67379ef6-bfaa-4cb6-8566-805ff7fe4a7e",
   "metadata": {},
   "source": [
    "# logocal operators\n",
    "1. And\n",
    "2. or\n",
    "3. not"
   ]
  },
  {
   "cell_type": "code",
   "execution_count": 1,
   "id": "5aff87ff-89de-4440-82b2-55dbae5072d2",
   "metadata": {},
   "outputs": [
    {
     "data": {
      "text/plain": [
       "True"
      ]
     },
     "execution_count": 1,
     "metadata": {},
     "output_type": "execute_result"
    }
   ],
   "source": [
    "True and True"
   ]
  },
  {
   "cell_type": "code",
   "execution_count": 2,
   "id": "357a2819-eb44-4125-8cb6-f01f411ef2c5",
   "metadata": {},
   "outputs": [
    {
     "data": {
      "text/plain": [
       "False"
      ]
     },
     "execution_count": 2,
     "metadata": {},
     "output_type": "execute_result"
    }
   ],
   "source": [
    "True and False"
   ]
  },
  {
   "cell_type": "code",
   "execution_count": 3,
   "id": "7e898eb5-72b8-4bc1-9a49-e8b12d81c6fe",
   "metadata": {},
   "outputs": [
    {
     "data": {
      "text/plain": [
       "False"
      ]
     },
     "execution_count": 3,
     "metadata": {},
     "output_type": "execute_result"
    }
   ],
   "source": [
    "False and False"
   ]
  },
  {
   "cell_type": "code",
   "execution_count": 4,
   "id": "6b51e470-a20d-424e-9a18-25a9ab971a54",
   "metadata": {},
   "outputs": [
    {
     "data": {
      "text/plain": [
       "True"
      ]
     },
     "execution_count": 4,
     "metadata": {},
     "output_type": "execute_result"
    }
   ],
   "source": [
    "True or True"
   ]
  },
  {
   "cell_type": "code",
   "execution_count": 6,
   "id": "31f65395-bc9c-4cfe-921c-35933e541a1e",
   "metadata": {},
   "outputs": [
    {
     "data": {
      "text/plain": [
       "True"
      ]
     },
     "execution_count": 6,
     "metadata": {},
     "output_type": "execute_result"
    }
   ],
   "source": [
    "True or False"
   ]
  },
  {
   "cell_type": "code",
   "execution_count": 7,
   "id": "c2202832-e6a2-41ce-a98e-79be27bc9f3e",
   "metadata": {},
   "outputs": [
    {
     "data": {
      "text/plain": [
       "False"
      ]
     },
     "execution_count": 7,
     "metadata": {},
     "output_type": "execute_result"
    }
   ],
   "source": [
    "False or False"
   ]
  },
  {
   "cell_type": "code",
   "execution_count": 10,
   "id": "5995313a-d990-4ffd-a1bf-3b424c9fe130",
   "metadata": {},
   "outputs": [
    {
     "data": {
      "text/plain": [
       "False"
      ]
     },
     "execution_count": 10,
     "metadata": {},
     "output_type": "execute_result"
    }
   ],
   "source": [
    "not True"
   ]
  },
  {
   "cell_type": "code",
   "execution_count": 11,
   "id": "48978abf-21b5-46e3-8917-c850bf4c68bd",
   "metadata": {},
   "outputs": [
    {
     "data": {
      "text/plain": [
       "False"
      ]
     },
     "execution_count": 11,
     "metadata": {},
     "output_type": "execute_result"
    }
   ],
   "source": [
    "bool(0)"
   ]
  },
  {
   "cell_type": "code",
   "execution_count": 12,
   "id": "687dc50f-cb24-49f9-b403-4a0cc8a08936",
   "metadata": {},
   "outputs": [
    {
     "data": {
      "text/plain": [
       "True"
      ]
     },
     "execution_count": 12,
     "metadata": {},
     "output_type": "execute_result"
    }
   ],
   "source": [
    "bool(True)"
   ]
  },
  {
   "cell_type": "code",
   "execution_count": 13,
   "id": "1a5a12fd-8a00-4540-9764-78d81796d0c0",
   "metadata": {},
   "outputs": [
    {
     "data": {
      "text/plain": [
       "False"
      ]
     },
     "execution_count": 13,
     "metadata": {},
     "output_type": "execute_result"
    }
   ],
   "source": [
    "bool(False)"
   ]
  },
  {
   "cell_type": "code",
   "execution_count": 14,
   "id": "aa825fa8-c5ed-4175-9287-b41039a6dced",
   "metadata": {},
   "outputs": [
    {
     "data": {
      "text/plain": [
       "False"
      ]
     },
     "execution_count": 14,
     "metadata": {},
     "output_type": "execute_result"
    }
   ],
   "source": [
    "not 1"
   ]
  },
  {
   "cell_type": "code",
   "execution_count": 15,
   "id": "fe1c86e6-35b2-4915-92b1-707f47cf8880",
   "metadata": {},
   "outputs": [
    {
     "data": {
      "text/plain": [
       "True"
      ]
     },
     "execution_count": 15,
     "metadata": {},
     "output_type": "execute_result"
    }
   ],
   "source": [
    "not 0"
   ]
  },
  {
   "cell_type": "code",
   "execution_count": 20,
   "id": "88cc2493-22e4-474c-8b71-2a6d23e9da0c",
   "metadata": {},
   "outputs": [
    {
     "data": {
      "text/plain": [
       "1"
      ]
     },
     "execution_count": 20,
     "metadata": {},
     "output_type": "execute_result"
    }
   ],
   "source": [
    "int(True)"
   ]
  },
  {
   "cell_type": "code",
   "execution_count": 19,
   "id": "0201b344-f480-46e0-ade5-13de5033444c",
   "metadata": {},
   "outputs": [
    {
     "data": {
      "text/plain": [
       "0"
      ]
     },
     "execution_count": 19,
     "metadata": {},
     "output_type": "execute_result"
    }
   ],
   "source": [
    "int(False)"
   ]
  },
  {
   "cell_type": "code",
   "execution_count": 16,
   "id": "16919699-914a-41dd-8c03-8d3b310d6c79",
   "metadata": {},
   "outputs": [
    {
     "data": {
      "text/plain": [
       "0"
      ]
     },
     "execution_count": 16,
     "metadata": {},
     "output_type": "execute_result"
    }
   ],
   "source": [
    "int(not 1)"
   ]
  },
  {
   "cell_type": "code",
   "execution_count": 17,
   "id": "149573d9-abc7-48e1-aa0b-4867c37f2937",
   "metadata": {},
   "outputs": [
    {
     "data": {
      "text/plain": [
       "0"
      ]
     },
     "execution_count": 17,
     "metadata": {},
     "output_type": "execute_result"
    }
   ],
   "source": [
    "int(not True)"
   ]
  },
  {
   "cell_type": "code",
   "execution_count": 18,
   "id": "b0edc835-3a2c-4f06-9796-36ee07de21c3",
   "metadata": {},
   "outputs": [
    {
     "data": {
      "text/plain": [
       "1"
      ]
     },
     "execution_count": 18,
     "metadata": {},
     "output_type": "execute_result"
    }
   ],
   "source": [
    "int(not False)"
   ]
  },
  {
   "cell_type": "code",
   "execution_count": 21,
   "id": "cd53afc4-e80f-4040-8815-4e3ef852fa31",
   "metadata": {},
   "outputs": [
    {
     "data": {
      "text/plain": [
       "1"
      ]
     },
     "execution_count": 21,
     "metadata": {},
     "output_type": "execute_result"
    }
   ],
   "source": [
    "True *True"
   ]
  },
  {
   "cell_type": "code",
   "execution_count": 22,
   "id": "ff1bc84a-589f-48c3-9cf2-61e83e599b5c",
   "metadata": {},
   "outputs": [
    {
     "data": {
      "text/plain": [
       "0"
      ]
     },
     "execution_count": 22,
     "metadata": {},
     "output_type": "execute_result"
    }
   ],
   "source": [
    "True * False"
   ]
  },
  {
   "cell_type": "code",
   "execution_count": 23,
   "id": "d2fc1058-497b-43be-abc0-e138b453c929",
   "metadata": {},
   "outputs": [
    {
     "data": {
      "text/plain": [
       "0"
      ]
     },
     "execution_count": 23,
     "metadata": {},
     "output_type": "execute_result"
    }
   ],
   "source": [
    "False * True"
   ]
  },
  {
   "cell_type": "code",
   "execution_count": 24,
   "id": "42ef03cd-5e14-47fc-8f91-662813360474",
   "metadata": {},
   "outputs": [
    {
     "data": {
      "text/plain": [
       "0"
      ]
     },
     "execution_count": 24,
     "metadata": {},
     "output_type": "execute_result"
    }
   ],
   "source": [
    "False * False"
   ]
  },
  {
   "cell_type": "code",
   "execution_count": 25,
   "id": "d0d18855-f30d-4a87-93eb-3a73afb52830",
   "metadata": {},
   "outputs": [],
   "source": [
    "a = [1,2,3,4]"
   ]
  },
  {
   "cell_type": "code",
   "execution_count": 26,
   "id": "c8589217-e050-4c24-b71c-0e9a003b9a9e",
   "metadata": {},
   "outputs": [
    {
     "data": {
      "text/plain": [
       "1"
      ]
     },
     "execution_count": 26,
     "metadata": {},
     "output_type": "execute_result"
    }
   ],
   "source": [
    "a[0]"
   ]
  },
  {
   "cell_type": "code",
   "execution_count": 27,
   "id": "9ea2ca9a-d2a5-47f5-8dfc-652bf8e62cc6",
   "metadata": {},
   "outputs": [],
   "source": [
    "a[0] = 50"
   ]
  },
  {
   "cell_type": "code",
   "execution_count": 28,
   "id": "66aef9f3-8d7c-460f-b03c-c702537e9720",
   "metadata": {},
   "outputs": [
    {
     "data": {
      "text/plain": [
       "[50, 2, 3, 4]"
      ]
     },
     "execution_count": 28,
     "metadata": {},
     "output_type": "execute_result"
    }
   ],
   "source": [
    "a"
   ]
  },
  {
   "cell_type": "code",
   "execution_count": 29,
   "id": "6f20bce7-f2fd-422a-bc61-a0e16067aa21",
   "metadata": {},
   "outputs": [],
   "source": [
    "b = \"neel\""
   ]
  },
  {
   "cell_type": "code",
   "execution_count": 30,
   "id": "8de47cc9-e326-4f83-8725-abb9bba726d4",
   "metadata": {},
   "outputs": [
    {
     "data": {
      "text/plain": [
       "'n'"
      ]
     },
     "execution_count": 30,
     "metadata": {},
     "output_type": "execute_result"
    }
   ],
   "source": [
    "b[0]"
   ]
  },
  {
   "cell_type": "code",
   "execution_count": 33,
   "id": "d7fe9e28-9f8b-48fa-972d-5bc9590d0658",
   "metadata": {},
   "outputs": [
    {
     "ename": "TypeError",
     "evalue": "'str' object does not support item assignment",
     "output_type": "error",
     "traceback": [
      "\u001b[1;31m---------------------------------------------------------------------------\u001b[0m",
      "\u001b[1;31mTypeError\u001b[0m                                 Traceback (most recent call last)",
      "Cell \u001b[1;32mIn[33], line 1\u001b[0m\n\u001b[1;32m----> 1\u001b[0m \u001b[43mb\u001b[49m\u001b[43m[\u001b[49m\u001b[38;5;241;43m0\u001b[39;49m\u001b[43m]\u001b[49m \u001b[38;5;241m=\u001b[39m \u001b[38;5;124m\"\u001b[39m\u001b[38;5;124mh\u001b[39m\u001b[38;5;124m\"\u001b[39m    \u001b[38;5;66;03m# we can change whole string but we cannot change charactor of string(immutable)\u001b[39;00m\n",
      "\u001b[1;31mTypeError\u001b[0m: 'str' object does not support item assignment"
     ]
    }
   ],
   "source": [
    "b[0] = \"h\"    # we can change whole string but we cannot change charactor of string(immutable)"
   ]
  },
  {
   "cell_type": "code",
   "execution_count": 34,
   "id": "933daf73-4b81-45a1-a107-5b4d0eeeebc6",
   "metadata": {},
   "outputs": [
    {
     "data": {
      "text/plain": [
       "-11"
      ]
     },
     "execution_count": 34,
     "metadata": {},
     "output_type": "execute_result"
    }
   ],
   "source": [
    "a = 10\n",
    "~a"
   ]
  },
  {
   "cell_type": "markdown",
   "id": "05245d13-d5ef-495f-a16d-a1f62c5df2aa",
   "metadata": {},
   "source": [
    "# strings"
   ]
  },
  {
   "cell_type": "code",
   "execution_count": 36,
   "id": "20a04f06-d350-4d72-80b8-386f5afeaf2a",
   "metadata": {},
   "outputs": [],
   "source": [
    "a = \"welcome to data science masters\""
   ]
  },
  {
   "cell_type": "code",
   "execution_count": 37,
   "id": "18e4d605-737e-42aa-9b5b-9de6de48ef75",
   "metadata": {},
   "outputs": [
    {
     "data": {
      "text/plain": [
       "str"
      ]
     },
     "execution_count": 37,
     "metadata": {},
     "output_type": "execute_result"
    }
   ],
   "source": [
    "type(a)"
   ]
  },
  {
   "cell_type": "code",
   "execution_count": 38,
   "id": "c126c398-73fc-4a9e-b977-056b8dcb99f9",
   "metadata": {},
   "outputs": [
    {
     "data": {
      "text/plain": [
       "'e'"
      ]
     },
     "execution_count": 38,
     "metadata": {},
     "output_type": "execute_result"
    }
   ],
   "source": [
    "a[1]"
   ]
  },
  {
   "cell_type": "code",
   "execution_count": 40,
   "id": "5e756f0e-b899-4378-bc8a-285bf6691259",
   "metadata": {},
   "outputs": [
    {
     "data": {
      "text/plain": [
       "'me to data science masters'"
      ]
     },
     "execution_count": 40,
     "metadata": {},
     "output_type": "execute_result"
    }
   ],
   "source": [
    "a[5:]"
   ]
  },
  {
   "cell_type": "code",
   "execution_count": 41,
   "id": "56b42154-6741-441e-8b70-fa676c5036f2",
   "metadata": {},
   "outputs": [
    {
     "data": {
      "text/plain": [
       "'welcome to data science master'"
      ]
     },
     "execution_count": 41,
     "metadata": {},
     "output_type": "execute_result"
    }
   ],
   "source": [
    "a[:-1]"
   ]
  },
  {
   "cell_type": "code",
   "execution_count": 42,
   "id": "90fd53a3-aabe-4332-acc2-82c805246fc0",
   "metadata": {},
   "outputs": [
    {
     "data": {
      "text/plain": [
       "'s'"
      ]
     },
     "execution_count": 42,
     "metadata": {},
     "output_type": "execute_result"
    }
   ],
   "source": [
    "a[-1:]"
   ]
  },
  {
   "cell_type": "code",
   "execution_count": 46,
   "id": "e48b07bc-ebe5-4e77-901f-a7425ae0877c",
   "metadata": {},
   "outputs": [
    {
     "data": {
      "text/plain": [
       "'e mast'"
      ]
     },
     "execution_count": 46,
     "metadata": {},
     "output_type": "execute_result"
    }
   ],
   "source": [
    "a[-9:-3]"
   ]
  },
  {
   "cell_type": "code",
   "execution_count": 47,
   "id": "3ce21257-22b2-4749-9460-08ac1866c01e",
   "metadata": {},
   "outputs": [
    {
     "data": {
      "text/plain": [
       "'welcome to data science masters'"
      ]
     },
     "execution_count": 47,
     "metadata": {},
     "output_type": "execute_result"
    }
   ],
   "source": [
    "a[:]"
   ]
  },
  {
   "cell_type": "code",
   "execution_count": 52,
   "id": "4d12f114-7e91-4130-9e55-23450bd39839",
   "metadata": {},
   "outputs": [
    {
     "data": {
      "text/plain": [
       "'ta '"
      ]
     },
     "execution_count": 52,
     "metadata": {},
     "output_type": "execute_result"
    }
   ],
   "source": [
    "a[-18:16]"
   ]
  },
  {
   "cell_type": "code",
   "execution_count": 53,
   "id": "ae5092eb-f5ae-4d9a-9da9-501775d90c32",
   "metadata": {},
   "outputs": [],
   "source": [
    "b = \"science\""
   ]
  },
  {
   "cell_type": "code",
   "execution_count": 56,
   "id": "1c563d58-91b7-4d9f-afb9-c363629933df",
   "metadata": {},
   "outputs": [
    {
     "data": {
      "text/plain": [
       "'en'"
      ]
     },
     "execution_count": 56,
     "metadata": {},
     "output_type": "execute_result"
    }
   ],
   "source": [
    "b[-4:5]"
   ]
  },
  {
   "cell_type": "code",
   "execution_count": 58,
   "id": "5c73e7db-f229-46c7-ae6e-a92bd169bce2",
   "metadata": {},
   "outputs": [
    {
     "data": {
      "text/plain": [
       "'sretsam ecneics atad ot emoclew'"
      ]
     },
     "execution_count": 58,
     "metadata": {},
     "output_type": "execute_result"
    }
   ],
   "source": [
    "a[::-1]"
   ]
  },
  {
   "cell_type": "code",
   "execution_count": 59,
   "id": "d993bc27-2106-44bb-bf70-80d6a34fb759",
   "metadata": {},
   "outputs": [
    {
     "data": {
      "text/plain": [
       "'welcome to data science masters'"
      ]
     },
     "execution_count": 59,
     "metadata": {},
     "output_type": "execute_result"
    }
   ],
   "source": [
    "a[::1]"
   ]
  },
  {
   "cell_type": "code",
   "execution_count": 61,
   "id": "986c7dc4-43e0-4c44-9753-864b3a0dc9c1",
   "metadata": {},
   "outputs": [
    {
     "data": {
      "text/plain": [
       "'wlo'"
      ]
     },
     "execution_count": 61,
     "metadata": {},
     "output_type": "execute_result"
    }
   ],
   "source": [
    "a[:5:2]"
   ]
  },
  {
   "cell_type": "code",
   "execution_count": 64,
   "id": "ea0797f5-c74d-4b43-8b8b-58b25e995413",
   "metadata": {},
   "outputs": [
    {
     "data": {
      "text/plain": [
       "''"
      ]
     },
     "execution_count": 64,
     "metadata": {},
     "output_type": "execute_result"
    }
   ],
   "source": [
    "a[-1:-15:1]"
   ]
  },
  {
   "cell_type": "code",
   "execution_count": 65,
   "id": "041bd6cf-990d-484b-aba6-c8b074a37d9b",
   "metadata": {},
   "outputs": [
    {
     "data": {
      "text/plain": [
       "'sretsam ecneic'"
      ]
     },
     "execution_count": 65,
     "metadata": {},
     "output_type": "execute_result"
    }
   ],
   "source": [
    "a[-1:-15:-1]"
   ]
  },
  {
   "cell_type": "markdown",
   "id": "ec0e796a-4047-477a-be22-52b56e1f0724",
   "metadata": {},
   "source": [
    "# concatenation"
   ]
  },
  {
   "cell_type": "code",
   "execution_count": 72,
   "id": "20b30277-f2b5-4b10-a9d9-c0835bbf0849",
   "metadata": {},
   "outputs": [
    {
     "data": {
      "text/plain": [
       "'welcome to data science mastersscience'"
      ]
     },
     "execution_count": 72,
     "metadata": {},
     "output_type": "execute_result"
    }
   ],
   "source": [
    "a + b"
   ]
  },
  {
   "cell_type": "code",
   "execution_count": 73,
   "id": "c2ca2e4f-2a22-426e-b033-b36965246a1f",
   "metadata": {},
   "outputs": [
    {
     "data": {
      "text/plain": [
       "31"
      ]
     },
     "execution_count": 73,
     "metadata": {},
     "output_type": "execute_result"
    }
   ],
   "source": [
    "len(a)"
   ]
  },
  {
   "cell_type": "code",
   "execution_count": 74,
   "id": "91394980-4ccb-40e1-8de1-848bc9b253fe",
   "metadata": {},
   "outputs": [
    {
     "data": {
      "text/plain": [
       "12"
      ]
     },
     "execution_count": 74,
     "metadata": {},
     "output_type": "execute_result"
    }
   ],
   "source": [
    "a.find(\"a\")"
   ]
  },
  {
   "cell_type": "code",
   "execution_count": 76,
   "id": "8a7c337c-1a22-41f1-8db6-89f999a966e6",
   "metadata": {},
   "outputs": [
    {
     "data": {
      "text/plain": [
       "1"
      ]
     },
     "execution_count": 76,
     "metadata": {},
     "output_type": "execute_result"
    }
   ],
   "source": [
    "a.find(\"e\",1,10)"
   ]
  },
  {
   "cell_type": "code",
   "execution_count": 77,
   "id": "46c29f83-df3e-4759-adde-ff8af04e4d5e",
   "metadata": {},
   "outputs": [
    {
     "data": {
      "text/plain": [
       "5"
      ]
     },
     "execution_count": 77,
     "metadata": {},
     "output_type": "execute_result"
    }
   ],
   "source": [
    "a.count(\"e\")"
   ]
  },
  {
   "cell_type": "code",
   "execution_count": 80,
   "id": "d8b2e0da-a925-4f68-ba6d-119a7042e9bb",
   "metadata": {},
   "outputs": [
    {
     "data": {
      "text/plain": [
       "2"
      ]
     },
     "execution_count": 80,
     "metadata": {},
     "output_type": "execute_result"
    }
   ],
   "source": [
    "a.count(\"e\",1,15)"
   ]
  },
  {
   "cell_type": "code",
   "execution_count": 79,
   "id": "0e943505-82f0-49ea-a9f6-6eb35cbde254",
   "metadata": {},
   "outputs": [
    {
     "data": {
      "text/plain": [
       "4"
      ]
     },
     "execution_count": 79,
     "metadata": {},
     "output_type": "execute_result"
    }
   ],
   "source": [
    "a.count(\" \")"
   ]
  },
  {
   "cell_type": "code",
   "execution_count": 87,
   "id": "3a04576e-adec-46c6-b536-3c7610d363d7",
   "metadata": {},
   "outputs": [
    {
     "data": {
      "text/plain": [
       "['welcome', 'to', 'data', 'science', 'masters']"
      ]
     },
     "execution_count": 87,
     "metadata": {},
     "output_type": "execute_result"
    }
   ],
   "source": [
    "a.split(sep=\" \")"
   ]
  },
  {
   "cell_type": "code",
   "execution_count": 88,
   "id": "8aab000b-36c6-4388-933f-120a5f84ccbe",
   "metadata": {},
   "outputs": [
    {
     "data": {
      "text/plain": [
       "['w', 'lcom', ' to data sci', 'nc', ' mast', 'rs']"
      ]
     },
     "execution_count": 88,
     "metadata": {},
     "output_type": "execute_result"
    }
   ],
   "source": [
    "a.split(sep=\"e\")"
   ]
  },
  {
   "cell_type": "code",
   "execution_count": 91,
   "id": "0c54188e-f3bf-4e03-b06c-4bd6882987c1",
   "metadata": {},
   "outputs": [
    {
     "data": {
      "text/plain": [
       "['welcome to ', 'ata science masters']"
      ]
     },
     "execution_count": 91,
     "metadata": {},
     "output_type": "execute_result"
    }
   ],
   "source": [
    "a.split(sep=\"d\")"
   ]
  },
  {
   "cell_type": "code",
   "execution_count": 92,
   "id": "351fd6a2-8886-4fb8-88a4-ca69c319044b",
   "metadata": {},
   "outputs": [
    {
     "data": {
      "text/plain": [
       "('welcome to ', 'd', 'ata science masters')"
      ]
     },
     "execution_count": 92,
     "metadata": {},
     "output_type": "execute_result"
    }
   ],
   "source": [
    "a.partition(\"d\")"
   ]
  },
  {
   "cell_type": "code",
   "execution_count": 93,
   "id": "8ae2dced-9faa-46a6-b796-cd89e23d544c",
   "metadata": {},
   "outputs": [
    {
     "data": {
      "text/plain": [
       "'WELCOME TO DATA SCIENCE MASTERS'"
      ]
     },
     "execution_count": 93,
     "metadata": {},
     "output_type": "execute_result"
    }
   ],
   "source": [
    "a.upper()"
   ]
  },
  {
   "cell_type": "code",
   "execution_count": 94,
   "id": "ac433eac-239e-4e7d-9f9a-6f0ac7d63460",
   "metadata": {},
   "outputs": [
    {
     "data": {
      "text/plain": [
       "'welcome to data science masters'"
      ]
     },
     "execution_count": 94,
     "metadata": {},
     "output_type": "execute_result"
    }
   ],
   "source": [
    "a.lower()"
   ]
  },
  {
   "cell_type": "code",
   "execution_count": 95,
   "id": "9e489f90-2d9b-4f6e-ad19-4fecbf4c855d",
   "metadata": {},
   "outputs": [
    {
     "data": {
      "text/plain": [
       "'Welcome To Data Science Masters'"
      ]
     },
     "execution_count": 95,
     "metadata": {},
     "output_type": "execute_result"
    }
   ],
   "source": [
    "a.title()"
   ]
  },
  {
   "cell_type": "code",
   "execution_count": 96,
   "id": "a4556aad-c109-4336-9002-d0ed4ed61fd6",
   "metadata": {},
   "outputs": [
    {
     "data": {
      "text/plain": [
       "'Neel Savani'"
      ]
     },
     "execution_count": 96,
     "metadata": {},
     "output_type": "execute_result"
    }
   ],
   "source": [
    "c = \"nEEL sAVANI\"\n",
    "c.title()"
   ]
  },
  {
   "cell_type": "code",
   "execution_count": 98,
   "id": "98aef96e-d8f9-4171-95ca-19d92fd119b2",
   "metadata": {},
   "outputs": [],
   "source": [
    "d = c.swapcase()"
   ]
  },
  {
   "cell_type": "code",
   "execution_count": 99,
   "id": "89cf2840-49b7-440a-b9b9-1fdb49de4773",
   "metadata": {},
   "outputs": [
    {
     "data": {
      "text/plain": [
       "'Neel Savani'"
      ]
     },
     "execution_count": 99,
     "metadata": {},
     "output_type": "execute_result"
    }
   ],
   "source": [
    "d"
   ]
  },
  {
   "cell_type": "code",
   "execution_count": 100,
   "id": "092d428c-6e9a-4405-95a3-f6aec2ee00c0",
   "metadata": {},
   "outputs": [
    {
     "data": {
      "text/plain": [
       "'nEEL sAVANI'"
      ]
     },
     "execution_count": 100,
     "metadata": {},
     "output_type": "execute_result"
    }
   ],
   "source": [
    "d.swapcase()"
   ]
  },
  {
   "cell_type": "code",
   "execution_count": null,
   "id": "087146cc-92b9-4f7d-80a2-5bbbc0467c71",
   "metadata": {},
   "outputs": [],
   "source": []
  }
 ],
 "metadata": {
  "kernelspec": {
   "display_name": "Python 3 (ipykernel)",
   "language": "python",
   "name": "python3"
  },
  "language_info": {
   "codemirror_mode": {
    "name": "ipython",
    "version": 3
   },
   "file_extension": ".py",
   "mimetype": "text/x-python",
   "name": "python",
   "nbconvert_exporter": "python",
   "pygments_lexer": "ipython3",
   "version": "3.12.1"
  }
 },
 "nbformat": 4,
 "nbformat_minor": 5
}
