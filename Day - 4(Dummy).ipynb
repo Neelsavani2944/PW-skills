{
 "cells": [
  {
   "cell_type": "code",
   "execution_count": 2,
   "id": "e8aa5318-eea9-44a7-9446-ef0bbac6aecb",
   "metadata": {},
   "outputs": [],
   "source": [
    "name = \"Data Science Masters\""
   ]
  },
  {
   "cell_type": "code",
   "execution_count": 2,
   "id": "660a2314-957e-49d6-a828-aee1c769a8bc",
   "metadata": {},
   "outputs": [
    {
     "data": {
      "text/plain": [
       "'dATA sCIENCE mASTERS'"
      ]
     },
     "execution_count": 2,
     "metadata": {},
     "output_type": "execute_result"
    }
   ],
   "source": [
    "name.swapcase()"
   ]
  },
  {
   "cell_type": "code",
   "execution_count": 3,
   "id": "7faca696-9b12-4fb5-8cc9-4c84910e10df",
   "metadata": {},
   "outputs": [
    {
     "data": {
      "text/plain": [
       "'Data Science Masters'"
      ]
     },
     "execution_count": 3,
     "metadata": {},
     "output_type": "execute_result"
    }
   ],
   "source": [
    "name.title()"
   ]
  },
  {
   "cell_type": "code",
   "execution_count": 4,
   "id": "2f39f417-fa5b-4f55-b585-6afc0c9b4396",
   "metadata": {},
   "outputs": [
    {
     "data": {
      "text/plain": [
       "'Data science masters'"
      ]
     },
     "execution_count": 4,
     "metadata": {},
     "output_type": "execute_result"
    }
   ],
   "source": [
    "name.capitalize()"
   ]
  },
  {
   "cell_type": "code",
   "execution_count": 5,
   "id": "1c2c16fe-2aa9-4803-906a-0176503db481",
   "metadata": {},
   "outputs": [
    {
     "data": {
      "text/plain": [
       "'DATA SCIENCE MASTERS'"
      ]
     },
     "execution_count": 5,
     "metadata": {},
     "output_type": "execute_result"
    }
   ],
   "source": [
    "name.upper()"
   ]
  },
  {
   "cell_type": "code",
   "execution_count": 6,
   "id": "44c7c03c-22e0-42dd-92cc-5be370631b35",
   "metadata": {},
   "outputs": [
    {
     "data": {
      "text/plain": [
       "False"
      ]
     },
     "execution_count": 6,
     "metadata": {},
     "output_type": "execute_result"
    }
   ],
   "source": [
    "name.isupper()"
   ]
  },
  {
   "cell_type": "code",
   "execution_count": 7,
   "id": "439ed57b-abff-4b3c-bfd2-912c8f8c3471",
   "metadata": {},
   "outputs": [
    {
     "data": {
      "text/plain": [
       "'data science masters'"
      ]
     },
     "execution_count": 7,
     "metadata": {},
     "output_type": "execute_result"
    }
   ],
   "source": [
    "name.lower()"
   ]
  },
  {
   "cell_type": "code",
   "execution_count": 8,
   "id": "cc990e7a-67ad-4bda-b4c0-2b64ddb4114e",
   "metadata": {},
   "outputs": [
    {
     "data": {
      "text/plain": [
       "False"
      ]
     },
     "execution_count": 8,
     "metadata": {},
     "output_type": "execute_result"
    }
   ],
   "source": [
    "name.islower()"
   ]
  },
  {
   "cell_type": "code",
   "execution_count": 22,
   "id": "5f394fd2-6d4a-45da-a71a-da4f563da893",
   "metadata": {},
   "outputs": [
    {
     "data": {
      "text/plain": [
       "False"
      ]
     },
     "execution_count": 22,
     "metadata": {},
     "output_type": "execute_result"
    }
   ],
   "source": [
    "name.isspace()"
   ]
  },
  {
   "cell_type": "code",
   "execution_count": 9,
   "id": "045f2e6c-dff2-4290-a226-b165d4880ef9",
   "metadata": {},
   "outputs": [
    {
     "data": {
      "text/plain": [
       "'S'"
      ]
     },
     "execution_count": 9,
     "metadata": {},
     "output_type": "execute_result"
    }
   ],
   "source": [
    "name[5]"
   ]
  },
  {
   "cell_type": "code",
   "execution_count": 10,
   "id": "3daefabb-aace-455e-be9a-3adc73a1a92f",
   "metadata": {},
   "outputs": [
    {
     "data": {
      "text/plain": [
       "'Science Ma'"
      ]
     },
     "execution_count": 10,
     "metadata": {},
     "output_type": "execute_result"
    }
   ],
   "source": [
    "name[5:15]"
   ]
  },
  {
   "cell_type": "code",
   "execution_count": 11,
   "id": "8e4b3568-ffa6-481a-88a8-d194366c7844",
   "metadata": {},
   "outputs": [
    {
     "data": {
      "text/plain": [
       "'SineM'"
      ]
     },
     "execution_count": 11,
     "metadata": {},
     "output_type": "execute_result"
    }
   ],
   "source": [
    "name[5:15:2]"
   ]
  },
  {
   "cell_type": "code",
   "execution_count": 14,
   "id": "fff01ee4-d76a-4e1b-b58f-8e5d82df985c",
   "metadata": {},
   "outputs": [
    {
     "data": {
      "text/plain": [
       "'saM ecneic'"
      ]
     },
     "execution_count": 14,
     "metadata": {},
     "output_type": "execute_result"
    }
   ],
   "source": [
    "name[-5:-15:-1]"
   ]
  },
  {
   "cell_type": "code",
   "execution_count": 16,
   "id": "e652758f-c490-4aae-96df-116e0462ec16",
   "metadata": {},
   "outputs": [
    {
     "data": {
      "text/plain": [
       "''"
      ]
     },
     "execution_count": 16,
     "metadata": {},
     "output_type": "execute_result"
    }
   ],
   "source": [
    "name[5:15:-1]    # steps should be according to start elements"
   ]
  },
  {
   "cell_type": "code",
   "execution_count": 17,
   "id": "056830e4-9dc9-4f6a-9252-4b5e68f19745",
   "metadata": {},
   "outputs": [
    {
     "data": {
      "text/plain": [
       "''"
      ]
     },
     "execution_count": 17,
     "metadata": {},
     "output_type": "execute_result"
    }
   ],
   "source": [
    "name[-5:15:-1]"
   ]
  },
  {
   "cell_type": "code",
   "execution_count": 18,
   "id": "1f74bd34-a71c-4e7a-8140-83afea2979f2",
   "metadata": {},
   "outputs": [
    {
     "data": {
      "text/plain": [
       "''"
      ]
     },
     "execution_count": 18,
     "metadata": {},
     "output_type": "execute_result"
    }
   ],
   "source": [
    "name[5:-15:-1]"
   ]
  },
  {
   "cell_type": "code",
   "execution_count": 20,
   "id": "cc6b74d4-4d6a-4ba2-b645-7243b5f47acc",
   "metadata": {},
   "outputs": [
    {
     "data": {
      "text/plain": [
       "'saM ecneicS a'"
      ]
     },
     "execution_count": 20,
     "metadata": {},
     "output_type": "execute_result"
    }
   ],
   "source": [
    "name[-5:-18:-1]"
   ]
  },
  {
   "cell_type": "markdown",
   "id": "78918da1-43e7-4e11-a56e-0fdd8889ccc8",
   "metadata": {},
   "source": [
    "# reversing string"
   ]
  },
  {
   "cell_type": "code",
   "execution_count": 21,
   "id": "af588597-d058-4cb5-90b2-4e025a757a58",
   "metadata": {},
   "outputs": [
    {
     "data": {
      "text/plain": [
       "'sretsaM ecneicS ataD'"
      ]
     },
     "execution_count": 21,
     "metadata": {},
     "output_type": "execute_result"
    }
   ],
   "source": [
    "name[::-1]"
   ]
  },
  {
   "cell_type": "code",
   "execution_count": 29,
   "id": "8b60979e-b2cf-4d83-8a6d-289f32dcb6db",
   "metadata": {},
   "outputs": [
    {
     "data": {
      "text/plain": [
       "<reversed at 0x1c853a25180>"
      ]
     },
     "execution_count": 29,
     "metadata": {},
     "output_type": "execute_result"
    }
   ],
   "source": [
    "reversed(name)"
   ]
  },
  {
   "cell_type": "code",
   "execution_count": 30,
   "id": "48668f6b-1584-424b-a624-63519df01fe3",
   "metadata": {
    "scrolled": true
   },
   "outputs": [
    {
     "data": {
      "text/plain": [
       "['s',\n",
       " 'r',\n",
       " 'e',\n",
       " 't',\n",
       " 's',\n",
       " 'a',\n",
       " 'M',\n",
       " ' ',\n",
       " 'e',\n",
       " 'c',\n",
       " 'n',\n",
       " 'e',\n",
       " 'i',\n",
       " 'c',\n",
       " 'S',\n",
       " ' ',\n",
       " 'a',\n",
       " 't',\n",
       " 'a',\n",
       " 'D']"
      ]
     },
     "execution_count": 30,
     "metadata": {},
     "output_type": "execute_result"
    }
   ],
   "source": [
    "list(reversed(name))"
   ]
  },
  {
   "cell_type": "code",
   "execution_count": 32,
   "id": "dd90b5cd-02f3-4226-a08d-5cc2dcc4d48a",
   "metadata": {},
   "outputs": [
    {
     "data": {
      "text/plain": [
       "['l', 'e', 'e', 'n']"
      ]
     },
     "execution_count": 32,
     "metadata": {},
     "output_type": "execute_result"
    }
   ],
   "source": [
    "list(reversed(\"neel\"))"
   ]
  },
  {
   "cell_type": "code",
   "execution_count": 22,
   "id": "0f23a4ad-85f7-4271-a511-0f039b2afbd9",
   "metadata": {},
   "outputs": [
    {
     "data": {
      "text/plain": [
       "'a b c d'"
      ]
     },
     "execution_count": 22,
     "metadata": {},
     "output_type": "execute_result"
    }
   ],
   "source": [
    "\" \".join(\"abcd\")"
   ]
  },
  {
   "cell_type": "code",
   "execution_count": 23,
   "id": "8a5173c9-ca4f-42e0-bc3f-9311538a5009",
   "metadata": {},
   "outputs": [
    {
     "data": {
      "text/plain": [
       "'abcd'"
      ]
     },
     "execution_count": 23,
     "metadata": {},
     "output_type": "execute_result"
    }
   ],
   "source": [
    "\"\".join(\"abcd\")"
   ]
  },
  {
   "cell_type": "code",
   "execution_count": 25,
   "id": "340b9359-282f-487b-8740-31dc70214517",
   "metadata": {},
   "outputs": [
    {
     "data": {
      "text/plain": [
       "'Data Science Masters'"
      ]
     },
     "execution_count": 25,
     "metadata": {},
     "output_type": "execute_result"
    }
   ],
   "source": [
    "\"\".join(name)"
   ]
  },
  {
   "cell_type": "code",
   "execution_count": 26,
   "id": "99a4d718-9729-4ce2-89a0-7d1e954a1cf9",
   "metadata": {},
   "outputs": [
    {
     "data": {
      "text/plain": [
       "'sretsaM ecneicS ataD'"
      ]
     },
     "execution_count": 26,
     "metadata": {},
     "output_type": "execute_result"
    }
   ],
   "source": [
    "\"\".join(reversed(name))"
   ]
  },
  {
   "cell_type": "code",
   "execution_count": 27,
   "id": "16f2eac3-c3ed-403e-85ec-e885c50378c5",
   "metadata": {},
   "outputs": [
    {
     "data": {
      "text/plain": [
       "'s r e t s a M   e c n e i c S   a t a D'"
      ]
     },
     "execution_count": 27,
     "metadata": {},
     "output_type": "execute_result"
    }
   ],
   "source": [
    "\" \".join(reversed(name))"
   ]
  },
  {
   "cell_type": "code",
   "execution_count": 28,
   "id": "fd5fb33c-eafb-4862-afcf-a05d4f0e1dc3",
   "metadata": {},
   "outputs": [
    {
     "data": {
      "text/plain": [
       "'D.a.t.a. .S.c.i.e.n.c.e. .M.a.s.t.e.r.s'"
      ]
     },
     "execution_count": 28,
     "metadata": {},
     "output_type": "execute_result"
    }
   ],
   "source": [
    "\".\".join(name)"
   ]
  },
  {
   "cell_type": "code",
   "execution_count": 5,
   "id": "16e367f8-a3dc-42eb-b665-36dd2b226373",
   "metadata": {},
   "outputs": [
    {
     "data": {
      "text/plain": [
       "'nsavaniesavaniesavanil'"
      ]
     },
     "execution_count": 5,
     "metadata": {},
     "output_type": "execute_result"
    }
   ],
   "source": [
    "\"savani\".join(\"neel\")"
   ]
  },
  {
   "cell_type": "code",
   "execution_count": 3,
   "id": "1879259c-138b-4e25-a7cc-c6806a9758c1",
   "metadata": {},
   "outputs": [
    {
     "data": {
      "text/plain": [
       "'Dheyaheytheyahey heySheycheyiheyeheynheycheyehey heyMheyaheysheytheyeheyrheys'"
      ]
     },
     "execution_count": 3,
     "metadata": {},
     "output_type": "execute_result"
    }
   ],
   "source": [
    "\"hey\".join(name)"
   ]
  },
  {
   "cell_type": "code",
   "execution_count": 10,
   "id": "a6408d5e-798f-4bc7-a395-a11ea6122b70",
   "metadata": {},
   "outputs": [],
   "source": [
    "a = \" neel is boy \""
   ]
  },
  {
   "cell_type": "code",
   "execution_count": 11,
   "id": "c8c9c1e0-e483-48f4-9e17-b4db007b3f1e",
   "metadata": {},
   "outputs": [
    {
     "data": {
      "text/plain": [
       "'neel is boy'"
      ]
     },
     "execution_count": 11,
     "metadata": {},
     "output_type": "execute_result"
    }
   ],
   "source": [
    "a.strip()"
   ]
  },
  {
   "cell_type": "code",
   "execution_count": 12,
   "id": "71eac698-86f2-4a12-8034-1c1db75851bd",
   "metadata": {},
   "outputs": [
    {
     "data": {
      "text/plain": [
       "'neel is boy '"
      ]
     },
     "execution_count": 12,
     "metadata": {},
     "output_type": "execute_result"
    }
   ],
   "source": [
    "a.lstrip()"
   ]
  },
  {
   "cell_type": "code",
   "execution_count": 13,
   "id": "8f4c30c9-e4e3-4c29-9d21-fc9b7e160e5c",
   "metadata": {},
   "outputs": [
    {
     "data": {
      "text/plain": [
       "' neel is boy'"
      ]
     },
     "execution_count": 13,
     "metadata": {},
     "output_type": "execute_result"
    }
   ],
   "source": [
    "a.rstrip()"
   ]
  },
  {
   "cell_type": "code",
   "execution_count": 14,
   "id": "364220e3-24f0-4ca1-b3dd-f7602ecbfc7e",
   "metadata": {},
   "outputs": [
    {
     "data": {
      "text/plain": [
       "' neel a boy '"
      ]
     },
     "execution_count": 14,
     "metadata": {},
     "output_type": "execute_result"
    }
   ],
   "source": [
    "a.replace(\"is\",\"a\")"
   ]
  },
  {
   "cell_type": "code",
   "execution_count": 15,
   "id": "e6e7a458-4834-4eb6-98de-efdd8a61038f",
   "metadata": {},
   "outputs": [
    {
     "data": {
      "text/plain": [
       "' Neel is boy '"
      ]
     },
     "execution_count": 15,
     "metadata": {},
     "output_type": "execute_result"
    }
   ],
   "source": [
    "a.replace(\"n\",\"N\")"
   ]
  },
  {
   "cell_type": "code",
   "execution_count": 16,
   "id": "e2385122-fe00-4497-af55-f7f13b4e6116",
   "metadata": {},
   "outputs": [
    {
     "data": {
      "text/plain": [
       "' neel is boy '"
      ]
     },
     "execution_count": 16,
     "metadata": {},
     "output_type": "execute_result"
    }
   ],
   "source": [
    "a"
   ]
  },
  {
   "cell_type": "code",
   "execution_count": 20,
   "id": "5e0757b0-366a-4be9-823f-dc394b1b8507",
   "metadata": {},
   "outputs": [],
   "source": [
    "b = \"neel \\tis\""
   ]
  },
  {
   "cell_type": "code",
   "execution_count": 21,
   "id": "1a1965d7-efe1-4605-aa73-826271d59505",
   "metadata": {},
   "outputs": [
    {
     "data": {
      "text/plain": [
       "'neel    is'"
      ]
     },
     "execution_count": 21,
     "metadata": {},
     "output_type": "execute_result"
    }
   ],
   "source": [
    "b.expandtabs()"
   ]
  },
  {
   "cell_type": "code",
   "execution_count": 23,
   "id": "016a3c99-1acd-4906-84b1-46b4bcd6e778",
   "metadata": {},
   "outputs": [
    {
     "data": {
      "text/plain": [
       "True"
      ]
     },
     "execution_count": 23,
     "metadata": {},
     "output_type": "execute_result"
    }
   ],
   "source": [
    "a.endswith(\" \")"
   ]
  },
  {
   "cell_type": "code",
   "execution_count": 24,
   "id": "5ca90e08-b8fe-4c6c-9d10-2c32f6e2afc5",
   "metadata": {},
   "outputs": [
    {
     "data": {
      "text/plain": [
       "False"
      ]
     },
     "execution_count": 24,
     "metadata": {},
     "output_type": "execute_result"
    }
   ],
   "source": [
    "a.endswith(\"y\")"
   ]
  },
  {
   "cell_type": "code",
   "execution_count": 25,
   "id": "07c1b919-34b2-4b27-a8fe-123f87f19635",
   "metadata": {},
   "outputs": [
    {
     "data": {
      "text/plain": [
       "True"
      ]
     },
     "execution_count": 25,
     "metadata": {},
     "output_type": "execute_result"
    }
   ],
   "source": [
    "a.startswith(\" \")"
   ]
  },
  {
   "cell_type": "code",
   "execution_count": 26,
   "id": "0a9e0056-ca59-4d78-9903-518551bf93d2",
   "metadata": {},
   "outputs": [
    {
     "data": {
      "text/plain": [
       "False"
      ]
     },
     "execution_count": 26,
     "metadata": {},
     "output_type": "execute_result"
    }
   ],
   "source": [
    "a.startswith(\"n\")"
   ]
  },
  {
   "cell_type": "code",
   "execution_count": 29,
   "id": "388a65b3-f934-445b-9abd-03fed22bb439",
   "metadata": {},
   "outputs": [
    {
     "name": "stdout",
     "output_type": "stream",
     "text": [
      "0 =  \n",
      "1 = n\n",
      "2 = e\n",
      "3 = e\n",
      "4 = l\n",
      "5 =  \n",
      "6 = i\n",
      "7 = s\n",
      "8 =  \n",
      "9 = b\n",
      "10 = o\n",
      "11 = y\n",
      "12 =  \n"
     ]
    }
   ],
   "source": [
    "for i in range(len(a)):\n",
    "    print(i,\"=\",a[i])"
   ]
  },
  {
   "cell_type": "code",
   "execution_count": 34,
   "id": "ed94d41c-5def-4b7b-a3d6-3656f5e9003a",
   "metadata": {},
   "outputs": [
    {
     "name": "stdout",
     "output_type": "stream",
     "text": [
      "12 =  \n",
      "11 = y\n",
      "10 = o\n",
      "9 = b\n",
      "8 =  \n",
      "7 = s\n",
      "6 = i\n",
      "5 =  \n",
      "4 = l\n",
      "3 = e\n",
      "2 = e\n",
      "1 = n\n",
      "0 =  \n"
     ]
    }
   ],
   "source": [
    "# to reverse\n",
    "for i in range(len(a)-1,-1,-1):\n",
    "    print(i,\"=\",a[i])"
   ]
  },
  {
   "cell_type": "code",
   "execution_count": 52,
   "id": "8034394a-4b37-4b05-b990-77a45275aba5",
   "metadata": {},
   "outputs": [],
   "source": [
    "a = \"pw skills data science masters\""
   ]
  },
  {
   "cell_type": "code",
   "execution_count": 53,
   "id": "ef513435-a278-4597-94ac-750120158b45",
   "metadata": {},
   "outputs": [],
   "source": [
    "a = a.split(\" \")"
   ]
  },
  {
   "cell_type": "code",
   "execution_count": 54,
   "id": "2b0190ef-7ce9-445a-bae2-bf27cd239b75",
   "metadata": {},
   "outputs": [
    {
     "data": {
      "text/plain": [
       "['pw', 'skills', 'data', 'science', 'masters']"
      ]
     },
     "execution_count": 54,
     "metadata": {},
     "output_type": "execute_result"
    }
   ],
   "source": [
    "a"
   ]
  },
  {
   "cell_type": "code",
   "execution_count": 55,
   "id": "43c4426a-ca4e-478f-b59c-8df484e9bd16",
   "metadata": {},
   "outputs": [
    {
     "name": "stdout",
     "output_type": "stream",
     "text": [
      "pw\n",
      "skills\n",
      "data\n",
      "science\n"
     ]
    }
   ],
   "source": [
    "for i in a:\n",
    "    print(i)\n",
    "    if \"science\" == i:\n",
    "        break"
   ]
  },
  {
   "cell_type": "code",
   "execution_count": 67,
   "id": "e765d1eb-b53c-4f0b-90d2-eadd9002ce95",
   "metadata": {},
   "outputs": [],
   "source": [
    "a = [\"neel\",\"savani\",\"is\",\"boy\"]"
   ]
  },
  {
   "cell_type": "code",
   "execution_count": 59,
   "id": "8f8bc47e-6515-435f-a0ab-23765037a638",
   "metadata": {},
   "outputs": [
    {
     "name": "stdout",
     "output_type": "stream",
     "text": [
      "boy\n"
     ]
    }
   ],
   "source": [
    "for i in a:\n",
    "    if len(i) == 3:\n",
    "        print(i)"
   ]
  },
  {
   "cell_type": "code",
   "execution_count": 60,
   "id": "39e65bb1-e470-4f60-8a67-d3d83eb319f2",
   "metadata": {},
   "outputs": [
    {
     "data": {
      "text/plain": [
       "3"
      ]
     },
     "execution_count": 60,
     "metadata": {},
     "output_type": "execute_result"
    }
   ],
   "source": [
    "len(a[3])"
   ]
  },
  {
   "cell_type": "code",
   "execution_count": 61,
   "id": "f99446f2-27a0-4a47-827a-f1d9bed34739",
   "metadata": {},
   "outputs": [],
   "source": [
    "a[0] = \"lol\""
   ]
  },
  {
   "cell_type": "code",
   "execution_count": 62,
   "id": "7213fe20-b4f4-466b-ac0a-b0b7883323e7",
   "metadata": {},
   "outputs": [
    {
     "data": {
      "text/plain": [
       "['lol', 'savani', 'is', 'boy']"
      ]
     },
     "execution_count": 62,
     "metadata": {},
     "output_type": "execute_result"
    }
   ],
   "source": [
    "a"
   ]
  },
  {
   "cell_type": "code",
   "execution_count": 63,
   "id": "f966b422-160c-4a6e-a67d-01586fe859f1",
   "metadata": {},
   "outputs": [
    {
     "data": {
      "text/plain": [
       "['lol', 'savani', 'is', 'boy', 'yes']"
      ]
     },
     "execution_count": 63,
     "metadata": {},
     "output_type": "execute_result"
    }
   ],
   "source": [
    "a + [\"yes\"]"
   ]
  },
  {
   "cell_type": "code",
   "execution_count": 64,
   "id": "14e41a21-5ff9-4208-899d-993202033f37",
   "metadata": {},
   "outputs": [
    {
     "data": {
      "text/plain": [
       "['lol', 'savani', 'is', 'boy', ['am', 'jem']]"
      ]
     },
     "execution_count": 64,
     "metadata": {},
     "output_type": "execute_result"
    }
   ],
   "source": [
    "a + [[\"am\",\"jem\"]]"
   ]
  },
  {
   "cell_type": "code",
   "execution_count": 71,
   "id": "038b7c4a-8b0f-47ad-acc8-208f5ce1663d",
   "metadata": {},
   "outputs": [
    {
     "data": {
      "text/plain": [
       "'b'"
      ]
     },
     "execution_count": 71,
     "metadata": {},
     "output_type": "execute_result"
    }
   ],
   "source": [
    "a[-1][0]"
   ]
  },
  {
   "cell_type": "code",
   "execution_count": 73,
   "id": "08696500-72df-4284-86fe-476b148cb437",
   "metadata": {},
   "outputs": [
    {
     "data": {
      "text/plain": [
       "['neel', 'savani', 'is', 'boy']"
      ]
     },
     "execution_count": 73,
     "metadata": {},
     "output_type": "execute_result"
    }
   ],
   "source": [
    "a"
   ]
  },
  {
   "cell_type": "code",
   "execution_count": 72,
   "id": "7e9bbb78-e4a6-403d-8dbf-3081b2d362c8",
   "metadata": {},
   "outputs": [],
   "source": [
    "b = a + [[\"am\",\"jem\"]]"
   ]
  },
  {
   "cell_type": "code",
   "execution_count": 74,
   "id": "cc44ce98-a19b-4861-a02c-ce7a14b4dfb7",
   "metadata": {},
   "outputs": [
    {
     "data": {
      "text/plain": [
       "['neel', 'savani', 'is', 'boy', ['am', 'jem']]"
      ]
     },
     "execution_count": 74,
     "metadata": {},
     "output_type": "execute_result"
    }
   ],
   "source": [
    "b"
   ]
  },
  {
   "cell_type": "code",
   "execution_count": 75,
   "id": "683ab614-a24d-4616-9fd5-c87e7df16970",
   "metadata": {},
   "outputs": [
    {
     "data": {
      "text/plain": [
       "'am'"
      ]
     },
     "execution_count": 75,
     "metadata": {},
     "output_type": "execute_result"
    }
   ],
   "source": [
    "b[-1][0]"
   ]
  },
  {
   "cell_type": "code",
   "execution_count": 77,
   "id": "21cdb2be-6520-4562-95e2-22b4e7736100",
   "metadata": {},
   "outputs": [],
   "source": [
    "a.append(\"yes\")"
   ]
  },
  {
   "cell_type": "code",
   "execution_count": 78,
   "id": "611d39b2-c927-4109-9733-d39088f01dca",
   "metadata": {},
   "outputs": [
    {
     "data": {
      "text/plain": [
       "['neel', 'savani', 'is', 'boy', 'yes']"
      ]
     },
     "execution_count": 78,
     "metadata": {},
     "output_type": "execute_result"
    }
   ],
   "source": [
    "a"
   ]
  },
  {
   "cell_type": "code",
   "execution_count": 79,
   "id": "f4666a8a-562c-44aa-b4d8-b2c534f8b5af",
   "metadata": {},
   "outputs": [],
   "source": [
    "b.append([\"bro\",\"is\"])"
   ]
  },
  {
   "cell_type": "code",
   "execution_count": 80,
   "id": "12a4105a-29dc-4569-bd2f-7cfb4a7c5e34",
   "metadata": {},
   "outputs": [
    {
     "data": {
      "text/plain": [
       "['neel', 'savani', 'is', 'boy', ['am', 'jem'], ['bro', 'is']]"
      ]
     },
     "execution_count": 80,
     "metadata": {},
     "output_type": "execute_result"
    }
   ],
   "source": [
    "b"
   ]
  },
  {
   "cell_type": "code",
   "execution_count": 76,
   "id": "657b5482-1a54-4c45-b858-b124e7628360",
   "metadata": {},
   "outputs": [
    {
     "data": {
      "text/plain": [
       "['neel',\n",
       " 'savani',\n",
       " 'is',\n",
       " 'boy',\n",
       " ['am', 'jem'],\n",
       " 'neel',\n",
       " 'savani',\n",
       " 'is',\n",
       " 'boy',\n",
       " ['am', 'jem']]"
      ]
     },
     "execution_count": 76,
     "metadata": {},
     "output_type": "execute_result"
    }
   ],
   "source": [
    "b * 2"
   ]
  },
  {
   "cell_type": "code",
   "execution_count": 81,
   "id": "17319bf9-c892-49b3-bd43-3b03e48555ce",
   "metadata": {},
   "outputs": [
    {
     "data": {
      "text/plain": [
       "'yes'"
      ]
     },
     "execution_count": 81,
     "metadata": {},
     "output_type": "execute_result"
    }
   ],
   "source": [
    "a.pop()"
   ]
  },
  {
   "cell_type": "code",
   "execution_count": 82,
   "id": "fb1179a3-3564-4012-bad3-88a674229064",
   "metadata": {},
   "outputs": [
    {
     "data": {
      "text/plain": [
       "['neel', 'savani', 'is', 'boy']"
      ]
     },
     "execution_count": 82,
     "metadata": {},
     "output_type": "execute_result"
    }
   ],
   "source": [
    "a"
   ]
  },
  {
   "cell_type": "code",
   "execution_count": 83,
   "id": "5b03df4a-e856-4f6e-91af-890f3c9eaea0",
   "metadata": {},
   "outputs": [
    {
     "data": {
      "text/plain": [
       "['bro', 'is']"
      ]
     },
     "execution_count": 83,
     "metadata": {},
     "output_type": "execute_result"
    }
   ],
   "source": [
    "b.pop()"
   ]
  },
  {
   "cell_type": "code",
   "execution_count": 84,
   "id": "16137e7f-9136-4cf1-9f1f-ecb25759b859",
   "metadata": {},
   "outputs": [
    {
     "data": {
      "text/plain": [
       "['neel', 'savani', 'is', 'boy', ['am', 'jem']]"
      ]
     },
     "execution_count": 84,
     "metadata": {},
     "output_type": "execute_result"
    }
   ],
   "source": [
    "b"
   ]
  },
  {
   "cell_type": "code",
   "execution_count": 89,
   "id": "79e58ebc-29b1-49e1-8440-56e003a07683",
   "metadata": {},
   "outputs": [
    {
     "data": {
      "text/plain": [
       "'boy'"
      ]
     },
     "execution_count": 89,
     "metadata": {},
     "output_type": "execute_result"
    }
   ],
   "source": [
    "b.pop([-1][0])"
   ]
  },
  {
   "cell_type": "code",
   "execution_count": 90,
   "id": "4b3a4ec3-2f45-45c1-b61c-cdc0d8ec37fe",
   "metadata": {},
   "outputs": [
    {
     "data": {
      "text/plain": [
       "['neel', 'savani', 'is']"
      ]
     },
     "execution_count": 90,
     "metadata": {},
     "output_type": "execute_result"
    }
   ],
   "source": [
    "b"
   ]
  },
  {
   "cell_type": "code",
   "execution_count": 91,
   "id": "74d9e618-6963-40e5-8007-e0de52f00ec9",
   "metadata": {},
   "outputs": [],
   "source": [
    "a = [[1,2,3],[4,5,6],[7,8,9]]"
   ]
  },
  {
   "cell_type": "code",
   "execution_count": 92,
   "id": "76115e80-e4fa-4311-8677-813593345729",
   "metadata": {},
   "outputs": [
    {
     "data": {
      "text/plain": [
       "[[1, 2, 3], [4, 5, 6], [7, 8, 9]]"
      ]
     },
     "execution_count": 92,
     "metadata": {},
     "output_type": "execute_result"
    }
   ],
   "source": [
    "a[:]"
   ]
  },
  {
   "cell_type": "code",
   "execution_count": 98,
   "id": "0d8f46b0-4782-4099-a336-a686243fe518",
   "metadata": {},
   "outputs": [
    {
     "data": {
      "text/plain": [
       "[]"
      ]
     },
     "execution_count": 98,
     "metadata": {},
     "output_type": "execute_result"
    }
   ],
   "source": [
    "a[:0]"
   ]
  },
  {
   "cell_type": "code",
   "execution_count": 104,
   "id": "86b60058-7965-4a87-934b-343a04147ad6",
   "metadata": {},
   "outputs": [
    {
     "data": {
      "text/plain": [
       "[0, '', 2, '', 4, '', 6, '', 8, '']"
      ]
     },
     "execution_count": 104,
     "metadata": {},
     "output_type": "execute_result"
    }
   ],
   "source": [
    "[i if i % 2 == 0 else \"\" for i in range(10) ]"
   ]
  },
  {
   "cell_type": "code",
   "execution_count": 105,
   "id": "e2eb6366-d852-492c-9e51-4e63754fc2ec",
   "metadata": {},
   "outputs": [],
   "source": [
    "lst = [1,2,3,4,5,6,7,8]"
   ]
  },
  {
   "cell_type": "code",
   "execution_count": 112,
   "id": "d4a84f84-fc95-406d-acde-ebdf1c067323",
   "metadata": {},
   "outputs": [
    {
     "data": {
      "text/plain": [
       "20"
      ]
     },
     "execution_count": 112,
     "metadata": {},
     "output_type": "execute_result"
    }
   ],
   "source": [
    "sum([i for i in lst if i % 2 == 0])"
   ]
  },
  {
   "cell_type": "code",
   "execution_count": 113,
   "id": "89dcdeea-f371-4592-8a8c-576eecae963a",
   "metadata": {},
   "outputs": [
    {
     "data": {
      "text/plain": [
       "16"
      ]
     },
     "execution_count": 113,
     "metadata": {},
     "output_type": "execute_result"
    }
   ],
   "source": [
    "sum([i for i in lst if i%2!=0])"
   ]
  },
  {
   "cell_type": "code",
   "execution_count": 114,
   "id": "fa060546-eb99-4d17-931e-b705d3572044",
   "metadata": {},
   "outputs": [],
   "source": [
    "lst = [1,2,3,4,5,6,7,8,9,10]"
   ]
  },
  {
   "cell_type": "code",
   "execution_count": 115,
   "id": "06ba9079-8393-4c8b-b86e-e64e9f2944c0",
   "metadata": {},
   "outputs": [
    {
     "data": {
      "text/plain": [
       "[1, 4, 9, 16, 25, 36, 49, 64, 81, 100]"
      ]
     },
     "execution_count": 115,
     "metadata": {},
     "output_type": "execute_result"
    }
   ],
   "source": [
    "[i**2 for i in lst]"
   ]
  },
  {
   "cell_type": "code",
   "execution_count": 116,
   "id": "71e6d8be-fd31-46ce-bd41-db9229e41d5c",
   "metadata": {},
   "outputs": [],
   "source": [
    "a = [-2,-1,0,1,2,3,4]"
   ]
  },
  {
   "cell_type": "code",
   "execution_count": 117,
   "id": "e1095d16-c2a9-4a1d-af27-f488a703c380",
   "metadata": {},
   "outputs": [
    {
     "data": {
      "text/plain": [
       "[1, 2, 3, 4]"
      ]
     },
     "execution_count": 117,
     "metadata": {},
     "output_type": "execute_result"
    }
   ],
   "source": [
    "[i for i in a if i>=1]"
   ]
  },
  {
   "cell_type": "code",
   "execution_count": 118,
   "id": "4732d045-5dee-493f-a414-01904952e5a1",
   "metadata": {},
   "outputs": [],
   "source": [
    "a = [\"apple\",\"banana\",\"charry\",\"date\"]"
   ]
  },
  {
   "cell_type": "code",
   "execution_count": 119,
   "id": "064a8f63-3bf3-4527-af90-50c4de3c51ee",
   "metadata": {},
   "outputs": [
    {
     "data": {
      "text/plain": [
       "['a', 'b', 'c', 'd']"
      ]
     },
     "execution_count": 119,
     "metadata": {},
     "output_type": "execute_result"
    }
   ],
   "source": [
    "[i[0] for i in a]"
   ]
  },
  {
   "cell_type": "code",
   "execution_count": 120,
   "id": "812a1a4c-e2db-4889-b4cb-13ae9d7b65b4",
   "metadata": {},
   "outputs": [],
   "source": [
    "temp = [0,10,20,30,40,50]"
   ]
  },
  {
   "cell_type": "code",
   "execution_count": 121,
   "id": "2d1249c8-5736-49dd-a6f8-cd75752735ed",
   "metadata": {},
   "outputs": [
    {
     "data": {
      "text/plain": [
       "[32.0, 50.0, 68.0, 86.0, 104.0, 122.0]"
      ]
     },
     "execution_count": 121,
     "metadata": {},
     "output_type": "execute_result"
    }
   ],
   "source": [
    "[(9/5)*i+32 for i in temp]"
   ]
  },
  {
   "cell_type": "code",
   "execution_count": 122,
   "id": "ace8c5df-cfad-485c-a214-f604761c5c2d",
   "metadata": {},
   "outputs": [],
   "source": [
    "a = [[1,2,3],[4,5,6],[7,8,9]]"
   ]
  },
  {
   "cell_type": "code",
   "execution_count": 131,
   "id": "43c0f053-f440-4012-a2a0-5d3449d1e041",
   "metadata": {},
   "outputs": [
    {
     "data": {
      "text/plain": [
       "[None, None, None, None, None, None, None, None, None]"
      ]
     },
     "execution_count": 131,
     "metadata": {},
     "output_type": "execute_result"
    }
   ],
   "source": [
    "b = []\n",
    "[b.append(j) for i in a for j in i]"
   ]
  },
  {
   "cell_type": "code",
   "execution_count": 132,
   "id": "b8a55765-b44d-4ef9-ba2c-ec0fc12e3087",
   "metadata": {},
   "outputs": [
    {
     "data": {
      "text/plain": [
       "[1, 2, 3, 4, 5, 6, 7, 8, 9]"
      ]
     },
     "execution_count": 132,
     "metadata": {},
     "output_type": "execute_result"
    }
   ],
   "source": [
    "b"
   ]
  },
  {
   "cell_type": "code",
   "execution_count": 133,
   "id": "6a602057-6fe2-4ed5-8d92-5be09865d5ce",
   "metadata": {},
   "outputs": [
    {
     "data": {
      "text/plain": [
       "[1, 2, 3, 4, 5, 6, 7, 8, 9]"
      ]
     },
     "execution_count": 133,
     "metadata": {},
     "output_type": "execute_result"
    }
   ],
   "source": [
    "[j for i in a for j in i]"
   ]
  },
  {
   "cell_type": "code",
   "execution_count": null,
   "id": "baa2c0f6-b125-48c9-bfaf-87eddb86f8f7",
   "metadata": {},
   "outputs": [],
   "source": []
  }
 ],
 "metadata": {
  "kernelspec": {
   "display_name": "Python 3 (ipykernel)",
   "language": "python",
   "name": "python3"
  },
  "language_info": {
   "codemirror_mode": {
    "name": "ipython",
    "version": 3
   },
   "file_extension": ".py",
   "mimetype": "text/x-python",
   "name": "python",
   "nbconvert_exporter": "python",
   "pygments_lexer": "ipython3",
   "version": "3.12.1"
  }
 },
 "nbformat": 4,
 "nbformat_minor": 5
}
